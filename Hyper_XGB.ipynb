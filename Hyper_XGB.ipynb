{
 "cells": [
  {
   "cell_type": "code",
   "execution_count": 1,
   "id": "f30ed291",
   "metadata": {
    "ExecuteTime": {
     "end_time": "2022-05-06T03:41:44.639242Z",
     "start_time": "2022-05-06T03:41:36.631292Z"
    }
   },
   "outputs": [],
   "source": [
    "import pandas as pd\n",
    "import numpy as np\n",
    "import inflection\n",
    "import math\n",
    "import datetime\n",
    "import seaborn as sns\n",
    "import matplotlib.pyplot as plt\n",
    "import xgboost as xgb\n",
    "import random\n",
    "import warnings\n",
    "\n",
    "from scipy           import stats\n",
    "from IPython.display import HTML\n",
    "from IPython.display import Image\n",
    "from tabulate        import tabulate\n",
    "from boruta          import BorutaPy\n",
    "\n",
    "from sklearn.metrics       import mean_absolute_error, mean_squared_error\n",
    "from sklearn.ensemble      import RandomForestRegressor\n",
    "from sklearn.linear_model  import LinearRegression, Lasso\n",
    "from sklearn.preprocessing import RobustScaler, MinMaxScaler, LabelEncoder"
   ]
  },
  {
   "cell_type": "code",
   "execution_count": 14,
   "id": "eda9bdc9",
   "metadata": {
    "ExecuteTime": {
     "end_time": "2022-05-06T03:48:49.673875Z",
     "start_time": "2022-05-06T03:48:49.647309Z"
    }
   },
   "outputs": [],
   "source": [
    "def cross_validation(x_training, kfold, model_name, model):\n",
    "    mae_list = []\n",
    "    mape_list = []\n",
    "    rmse_list = []\n",
    "    for k in range(1, kfold + 1):\n",
    "    #     print('\\nKFolder = {}'.format(k))\n",
    "    \n",
    "        # start and end date for validation\n",
    "        validation_start_date = x_training['date'].max() - datetime.timedelta( days = k*6*7)\n",
    "        validation_end_date = x_training['date'].max() - datetime.timedelta( days = (k - 1)*6*7)\n",
    "\n",
    "        # filtering dataset\n",
    "        training = x_training[x_training['date'] < validation_start_date]\n",
    "        validation = x_training[(x_training['date'] >= validation_start_date) & (x_training['date'] <= validation_end_date)]\n",
    "\n",
    "        # training and validation dataset\n",
    "        xtraining = training.drop(['date','sales'], axis = 1)\n",
    "        ytraining = training['sales']\n",
    "\n",
    "        xvalidation = validation.drop(['date','sales'], axis = 1)\n",
    "        yvalidation = validation['sales']\n",
    "\n",
    "        # model\n",
    "        m = model.fit( xtraining, ytraining)\n",
    "\n",
    "        # prediction \n",
    "        yhat = m.predict( xvalidation)\n",
    "\n",
    "        # performance\n",
    "        m_result = ml_error(model_name, np.expm1(yvalidation), np.expm1(yhat))\n",
    "        mae_list.append(m_result['MAE'])\n",
    "        mape_list.append(m_result['MAPE'])\n",
    "        rmse_list.append(m_result['RMSE'])\n",
    "\n",
    "    return pd.DataFrame({'Model Name':model_name,\n",
    "                        'MAE CV': np.round(np.mean(mae_list), 2).astype(str) + ' +/- ' + np.round(np.std(mae_list), 2).astype(str),\n",
    "                        'MAPE CV': np.round(np.mean(mape_list), 2).astype(str) + ' +/- ' + np.round(np.std(mape_list), 2).astype(str),\n",
    "                        'RMSE CV': np.round(np.mean(rmse_list), 2).astype(str) + ' +/- ' + np.round(np.std(rmse_list), 2).astype(str)}, index = [0])\n",
    "\n",
    "def mean_absolute_percentage_error(y, yhat):\n",
    "    return np.mean(np.abs((y - yhat)/y))\n",
    "\n",
    "def ml_error(model_name, y, yhat):\n",
    "    mae = mean_absolute_error(y, yhat)\n",
    "    mape = mean_absolute_percentage_error(y, yhat)\n",
    "    rmse = np.sqrt(mean_squared_error(y, yhat))\n",
    "    \n",
    "    return pd.DataFrame({'Model Name':model_name,'MAE':mae,'MAPE':mape,'RMSE':rmse}, index = [0])\n"
   ]
  },
  {
   "cell_type": "code",
   "execution_count": 4,
   "id": "47fd4c67",
   "metadata": {
    "ExecuteTime": {
     "end_time": "2022-05-06T03:45:24.186683Z",
     "start_time": "2022-05-06T03:45:17.098730Z"
    }
   },
   "outputs": [
    {
     "data": {
      "text/html": [
       "<div>\n",
       "<style scoped>\n",
       "    .dataframe tbody tr th:only-of-type {\n",
       "        vertical-align: middle;\n",
       "    }\n",
       "\n",
       "    .dataframe tbody tr th {\n",
       "        vertical-align: top;\n",
       "    }\n",
       "\n",
       "    .dataframe thead th {\n",
       "        text-align: right;\n",
       "    }\n",
       "</style>\n",
       "<table border=\"1\" class=\"dataframe\">\n",
       "  <thead>\n",
       "    <tr style=\"text-align: right;\">\n",
       "      <th></th>\n",
       "      <th>Unnamed: 0</th>\n",
       "      <th>store</th>\n",
       "      <th>day_of_week</th>\n",
       "      <th>date</th>\n",
       "      <th>sales</th>\n",
       "      <th>promo</th>\n",
       "      <th>school_holiday</th>\n",
       "      <th>store_type</th>\n",
       "      <th>assortment</th>\n",
       "      <th>competition_distance</th>\n",
       "      <th>...</th>\n",
       "      <th>sh_public holiday</th>\n",
       "      <th>sh_regular day</th>\n",
       "      <th>day_of_week_sin</th>\n",
       "      <th>day_of_week_cos</th>\n",
       "      <th>month_sin</th>\n",
       "      <th>month_cos</th>\n",
       "      <th>day_sin</th>\n",
       "      <th>day_cos</th>\n",
       "      <th>week_of_year_sin</th>\n",
       "      <th>week_of_year_cos</th>\n",
       "    </tr>\n",
       "  </thead>\n",
       "  <tbody>\n",
       "    <tr>\n",
       "      <th>0</th>\n",
       "      <td>0</td>\n",
       "      <td>1</td>\n",
       "      <td>5</td>\n",
       "      <td>2015-07-31</td>\n",
       "      <td>8.568646</td>\n",
       "      <td>1</td>\n",
       "      <td>1</td>\n",
       "      <td>2</td>\n",
       "      <td>1</td>\n",
       "      <td>-0.170968</td>\n",
       "      <td>...</td>\n",
       "      <td>0</td>\n",
       "      <td>1</td>\n",
       "      <td>-0.974928</td>\n",
       "      <td>-0.222521</td>\n",
       "      <td>-0.5</td>\n",
       "      <td>-0.866025</td>\n",
       "      <td>0.207912</td>\n",
       "      <td>0.978148</td>\n",
       "      <td>-0.568065</td>\n",
       "      <td>-0.822984</td>\n",
       "    </tr>\n",
       "    <tr>\n",
       "      <th>1</th>\n",
       "      <td>1</td>\n",
       "      <td>2</td>\n",
       "      <td>5</td>\n",
       "      <td>2015-07-31</td>\n",
       "      <td>8.710290</td>\n",
       "      <td>1</td>\n",
       "      <td>1</td>\n",
       "      <td>0</td>\n",
       "      <td>1</td>\n",
       "      <td>-0.283871</td>\n",
       "      <td>...</td>\n",
       "      <td>0</td>\n",
       "      <td>1</td>\n",
       "      <td>-0.974928</td>\n",
       "      <td>-0.222521</td>\n",
       "      <td>-0.5</td>\n",
       "      <td>-0.866025</td>\n",
       "      <td>0.207912</td>\n",
       "      <td>0.978148</td>\n",
       "      <td>-0.568065</td>\n",
       "      <td>-0.822984</td>\n",
       "    </tr>\n",
       "    <tr>\n",
       "      <th>2</th>\n",
       "      <td>2</td>\n",
       "      <td>3</td>\n",
       "      <td>5</td>\n",
       "      <td>2015-07-31</td>\n",
       "      <td>9.025816</td>\n",
       "      <td>1</td>\n",
       "      <td>1</td>\n",
       "      <td>0</td>\n",
       "      <td>1</td>\n",
       "      <td>1.903226</td>\n",
       "      <td>...</td>\n",
       "      <td>0</td>\n",
       "      <td>1</td>\n",
       "      <td>-0.974928</td>\n",
       "      <td>-0.222521</td>\n",
       "      <td>-0.5</td>\n",
       "      <td>-0.866025</td>\n",
       "      <td>0.207912</td>\n",
       "      <td>0.978148</td>\n",
       "      <td>-0.568065</td>\n",
       "      <td>-0.822984</td>\n",
       "    </tr>\n",
       "    <tr>\n",
       "      <th>3</th>\n",
       "      <td>3</td>\n",
       "      <td>4</td>\n",
       "      <td>5</td>\n",
       "      <td>2015-07-31</td>\n",
       "      <td>9.546527</td>\n",
       "      <td>1</td>\n",
       "      <td>1</td>\n",
       "      <td>2</td>\n",
       "      <td>2</td>\n",
       "      <td>-0.275806</td>\n",
       "      <td>...</td>\n",
       "      <td>0</td>\n",
       "      <td>1</td>\n",
       "      <td>-0.974928</td>\n",
       "      <td>-0.222521</td>\n",
       "      <td>-0.5</td>\n",
       "      <td>-0.866025</td>\n",
       "      <td>0.207912</td>\n",
       "      <td>0.978148</td>\n",
       "      <td>-0.568065</td>\n",
       "      <td>-0.822984</td>\n",
       "    </tr>\n",
       "    <tr>\n",
       "      <th>4</th>\n",
       "      <td>4</td>\n",
       "      <td>5</td>\n",
       "      <td>5</td>\n",
       "      <td>2015-07-31</td>\n",
       "      <td>8.481151</td>\n",
       "      <td>1</td>\n",
       "      <td>1</td>\n",
       "      <td>0</td>\n",
       "      <td>1</td>\n",
       "      <td>4.448387</td>\n",
       "      <td>...</td>\n",
       "      <td>0</td>\n",
       "      <td>1</td>\n",
       "      <td>-0.974928</td>\n",
       "      <td>-0.222521</td>\n",
       "      <td>-0.5</td>\n",
       "      <td>-0.866025</td>\n",
       "      <td>0.207912</td>\n",
       "      <td>0.978148</td>\n",
       "      <td>-0.568065</td>\n",
       "      <td>-0.822984</td>\n",
       "    </tr>\n",
       "  </tbody>\n",
       "</table>\n",
       "<p>5 rows × 37 columns</p>\n",
       "</div>"
      ],
      "text/plain": [
       "   Unnamed: 0  store  day_of_week        date     sales  promo  \\\n",
       "0           0      1            5  2015-07-31  8.568646      1   \n",
       "1           1      2            5  2015-07-31  8.710290      1   \n",
       "2           2      3            5  2015-07-31  9.025816      1   \n",
       "3           3      4            5  2015-07-31  9.546527      1   \n",
       "4           4      5            5  2015-07-31  8.481151      1   \n",
       "\n",
       "   school_holiday  store_type  assortment  competition_distance  ...  \\\n",
       "0               1           2           1             -0.170968  ...   \n",
       "1               1           0           1             -0.283871  ...   \n",
       "2               1           0           1              1.903226  ...   \n",
       "3               1           2           2             -0.275806  ...   \n",
       "4               1           0           1              4.448387  ...   \n",
       "\n",
       "   sh_public holiday  sh_regular day  day_of_week_sin  day_of_week_cos  \\\n",
       "0                  0               1        -0.974928        -0.222521   \n",
       "1                  0               1        -0.974928        -0.222521   \n",
       "2                  0               1        -0.974928        -0.222521   \n",
       "3                  0               1        -0.974928        -0.222521   \n",
       "4                  0               1        -0.974928        -0.222521   \n",
       "\n",
       "   month_sin  month_cos   day_sin   day_cos  week_of_year_sin  \\\n",
       "0       -0.5  -0.866025  0.207912  0.978148         -0.568065   \n",
       "1       -0.5  -0.866025  0.207912  0.978148         -0.568065   \n",
       "2       -0.5  -0.866025  0.207912  0.978148         -0.568065   \n",
       "3       -0.5  -0.866025  0.207912  0.978148         -0.568065   \n",
       "4       -0.5  -0.866025  0.207912  0.978148         -0.568065   \n",
       "\n",
       "   week_of_year_cos  \n",
       "0         -0.822984  \n",
       "1         -0.822984  \n",
       "2         -0.822984  \n",
       "3         -0.822984  \n",
       "4         -0.822984  \n",
       "\n",
       "[5 rows x 37 columns]"
      ]
     },
     "execution_count": 4,
     "metadata": {},
     "output_type": "execute_result"
    }
   ],
   "source": [
    "df6 = pd.read_csv('df6.csv')\n",
    "df6.head()"
   ]
  },
  {
   "cell_type": "code",
   "execution_count": 5,
   "id": "4cf5381e",
   "metadata": {
    "ExecuteTime": {
     "end_time": "2022-05-06T03:45:28.373387Z",
     "start_time": "2022-05-06T03:45:27.181313Z"
    }
   },
   "outputs": [
    {
     "name": "stdout",
     "output_type": "stream",
     "text": [
      "Training Min Date: 2013-01-01\n",
      "Training Max Date: 2015-06-18\n",
      "Test Min Date: 2015-06-19\n",
      "Test Max Date: 2015-07-31\n"
     ]
    }
   ],
   "source": [
    "cols_drop = ['week_of_year','day','month','day_of_week','promo_since','competition_since']\n",
    "df6.drop(cols_drop, axis = 1, inplace = True)\n",
    "\n",
    "# Train, Test split. \n",
    "\n",
    "# Training dataset\n",
    "X_train = df6[df6['date'] < '2015-06-19']\n",
    "y_train = X_train['sales']\n",
    "\n",
    "# test dataset\n",
    "X_test = df6[df6['date'] >= '2015-06-19']\n",
    "y_test = X_test['sales']\n",
    "\n",
    "print('Training Min Date: {}'.format(X_train['date'].min()))\n",
    "print('Training Max Date: {}'.format(X_train['date'].max()))\n",
    "\n",
    "print('Test Min Date: {}'.format(X_test['date'].min()))\n",
    "print('Test Max Date: {}'.format(X_test['date'].max()))\n",
    "\n",
    "X_train_n = X_train.drop(['date','sales'], axis = 1).values\n",
    "y_train_n = y_train.values.ravel()"
   ]
  },
  {
   "cell_type": "code",
   "execution_count": 6,
   "id": "5eef11ee",
   "metadata": {
    "ExecuteTime": {
     "end_time": "2022-05-06T03:45:55.698872Z",
     "start_time": "2022-05-06T03:45:55.686327Z"
    }
   },
   "outputs": [],
   "source": [
    "# Selectec columns boruta\n",
    "cols_selected_boruta = [\n",
    " 'store',\n",
    " 'promo',\n",
    " 'store_type',\n",
    " 'assortment',\n",
    " 'competition_distance',\n",
    " 'competition_open_since_month',\n",
    " 'competition_open_since_year',\n",
    " 'promo2',\n",
    " 'promo2_since_week',\n",
    " 'promo2_since_year',\n",
    " 'competition_time_month',\n",
    " 'promo_time_week',\n",
    " 'day_of_week_sin', \n",
    " 'day_of_week_cos',\n",
    " 'month_sin',\n",
    " 'month_cos',\n",
    " 'day_sin',\n",
    " 'day_cos',\n",
    " 'week_of_year_sin',\n",
    " 'week_of_year_cos']"
   ]
  },
  {
   "cell_type": "code",
   "execution_count": 7,
   "id": "e6e1ab7e",
   "metadata": {
    "ExecuteTime": {
     "end_time": "2022-05-06T03:45:57.575025Z",
     "start_time": "2022-05-06T03:45:57.484398Z"
    }
   },
   "outputs": [],
   "source": [
    "x_train = X_train[ cols_selected_boruta]\n",
    "x_test = X_test[ cols_selected_boruta]"
   ]
  },
  {
   "cell_type": "code",
   "execution_count": 8,
   "id": "b0aa71b3",
   "metadata": {
    "ExecuteTime": {
     "end_time": "2022-05-06T03:46:08.301698Z",
     "start_time": "2022-05-06T03:46:08.297278Z"
    }
   },
   "outputs": [],
   "source": [
    "# Adding sales and date to columns selected by boruta.\n",
    "add_features = ['date','sales']\n",
    "cols_selected_boruta.extend(add_features)\n",
    "cols_selected_boruta_full = cols_selected_boruta.copy()"
   ]
  },
  {
   "cell_type": "code",
   "execution_count": 27,
   "id": "54750a0e",
   "metadata": {
    "ExecuteTime": {
     "end_time": "2022-05-06T03:55:08.795141Z",
     "start_time": "2022-05-06T03:55:07.909233Z"
    }
   },
   "outputs": [],
   "source": [
    "x_training = X_train[ cols_selected_boruta_full]\n",
    "x_training['date'] = pd.to_datetime(x_training['date'])"
   ]
  },
  {
   "cell_type": "code",
   "execution_count": 28,
   "id": "d0ea6933",
   "metadata": {
    "ExecuteTime": {
     "end_time": "2022-05-06T03:55:08.915217Z",
     "start_time": "2022-05-06T03:55:08.910968Z"
    }
   },
   "outputs": [],
   "source": [
    "aux1 = x_test.copy()\n",
    "aux1['sales'] = y_test.copy()"
   ]
  },
  {
   "cell_type": "code",
   "execution_count": 29,
   "id": "2178635a",
   "metadata": {
    "ExecuteTime": {
     "end_time": "2022-05-06T03:56:03.058336Z",
     "start_time": "2022-05-06T03:55:12.501218Z"
    }
   },
   "outputs": [
    {
     "name": "stdout",
     "output_type": "stream",
     "text": [
      "[00:55:12] WARNING: ../src/learner.cc:627: \n",
      "Parameters: { \"closample_bytree\" } might not be used.\n",
      "\n",
      "  This could be a false alarm, with some parameters getting used by language bindings but\n",
      "  then being mistakenly passed down to XGBoost core, or some parameter actually being used\n",
      "  but getting flagged wrongly here. Please open an issue if you find any such cases.\n",
      "\n",
      "\n"
     ]
    },
    {
     "data": {
      "text/html": [
       "<div>\n",
       "<style scoped>\n",
       "    .dataframe tbody tr th:only-of-type {\n",
       "        vertical-align: middle;\n",
       "    }\n",
       "\n",
       "    .dataframe tbody tr th {\n",
       "        vertical-align: top;\n",
       "    }\n",
       "\n",
       "    .dataframe thead th {\n",
       "        text-align: right;\n",
       "    }\n",
       "</style>\n",
       "<table border=\"1\" class=\"dataframe\">\n",
       "  <thead>\n",
       "    <tr style=\"text-align: right;\">\n",
       "      <th></th>\n",
       "      <th>Model Name</th>\n",
       "      <th>MAE</th>\n",
       "      <th>MAPE</th>\n",
       "      <th>RMSE</th>\n",
       "    </tr>\n",
       "  </thead>\n",
       "  <tbody>\n",
       "    <tr>\n",
       "      <th>0</th>\n",
       "      <td>XGBoost Regressor</td>\n",
       "      <td>864.842658</td>\n",
       "      <td>0.126081</td>\n",
       "      <td>1278.785981</td>\n",
       "    </tr>\n",
       "  </tbody>\n",
       "</table>\n",
       "</div>"
      ],
      "text/plain": [
       "          Model Name         MAE      MAPE         RMSE\n",
       "0  XGBoost Regressor  864.842658  0.126081  1278.785981"
      ]
     },
     "execution_count": 29,
     "metadata": {},
     "output_type": "execute_result"
    }
   ],
   "source": [
    "# model\n",
    "model_xgb = xgb.XGBRegressor(objective = 'reg:squarederror',\n",
    "                             n_estimators = 100,\n",
    "                             eta = 0.1,\n",
    "                             max_depth = 10,\n",
    "                             subsample = 0.7,\n",
    "                             closample_bytree = 0.9).fit(x_train, y_train)\n",
    "\n",
    "# prediction\n",
    "yhat_xgb = model_xgb.predict(x_test)\n",
    "\n",
    "# performance\n",
    "xgb_result = ml_error('XGBoost Regressor', np.expm1(y_test), np.expm1(yhat_xgb))\n",
    "xgb_result"
   ]
  },
  {
   "cell_type": "code",
   "execution_count": 38,
   "id": "c3089da1",
   "metadata": {
    "ExecuteTime": {
     "end_time": "2022-05-06T03:58:56.544393Z",
     "start_time": "2022-05-06T03:58:56.534703Z"
    }
   },
   "outputs": [],
   "source": [
    "param = {'n_estimators':[1500, 1700, 2500, 3000, 3500],\n",
    "         'eta':[0.01, 0.03, 0.3],\n",
    "         'max_depth':[3, 5, 10],\n",
    "         'subsample':[0.1, 0.5, 0.7],\n",
    "         'colsample_bytree':[0.3, 0.7, 0.9],\n",
    "         'min_child_weight':[3, 8, 15]}\n",
    "MAX_EVAL = 10\n",
    "warnings.filterwarnings('ignore')"
   ]
  },
  {
   "cell_type": "code",
   "execution_count": 37,
   "id": "0e1cd184",
   "metadata": {
    "ExecuteTime": {
     "end_time": "2022-05-06T03:58:19.387735Z",
     "start_time": "2022-05-06T03:58:04.655828Z"
    }
   },
   "outputs": [
    {
     "name": "stdout",
     "output_type": "stream",
     "text": [
      "{'n_estimators': 17, 'eta': 0.01, 'max_depth': 3, 'subsample': 0.5, 'colsample_bytree': 0.9, 'min_child_weight': 8}\n",
      "{'n_estimators': 17, 'eta': 0.01, 'max_depth': 10, 'subsample': 0.5, 'colsample_bytree': 0.7, 'min_child_weight': 8}\n"
     ]
    },
    {
     "data": {
      "text/html": [
       "<div>\n",
       "<style scoped>\n",
       "    .dataframe tbody tr th:only-of-type {\n",
       "        vertical-align: middle;\n",
       "    }\n",
       "\n",
       "    .dataframe tbody tr th {\n",
       "        vertical-align: top;\n",
       "    }\n",
       "\n",
       "    .dataframe thead th {\n",
       "        text-align: right;\n",
       "    }\n",
       "</style>\n",
       "<table border=\"1\" class=\"dataframe\">\n",
       "  <thead>\n",
       "    <tr style=\"text-align: right;\">\n",
       "      <th></th>\n",
       "      <th>Model Name</th>\n",
       "      <th>MAE CV</th>\n",
       "      <th>MAPE CV</th>\n",
       "      <th>RMSE CV</th>\n",
       "    </tr>\n",
       "  </thead>\n",
       "  <tbody>\n",
       "    <tr>\n",
       "      <th>0</th>\n",
       "      <td>XGBoost Regressor</td>\n",
       "      <td>7420.51 +/- 128.29</td>\n",
       "      <td>1.0 +/- 0.0</td>\n",
       "      <td>8074.64 +/- 175.38</td>\n",
       "    </tr>\n",
       "    <tr>\n",
       "      <th>0</th>\n",
       "      <td>XGBoost Regressor</td>\n",
       "      <td>7420.51 +/- 128.28</td>\n",
       "      <td>1.0 +/- 0.0</td>\n",
       "      <td>8074.62 +/- 175.37</td>\n",
       "    </tr>\n",
       "  </tbody>\n",
       "</table>\n",
       "</div>"
      ],
      "text/plain": [
       "          Model Name              MAE CV      MAPE CV             RMSE CV\n",
       "0  XGBoost Regressor  7420.51 +/- 128.29  1.0 +/- 0.0  8074.64 +/- 175.38\n",
       "0  XGBoost Regressor  7420.51 +/- 128.28  1.0 +/- 0.0  8074.62 +/- 175.37"
      ]
     },
     "execution_count": 37,
     "metadata": {},
     "output_type": "execute_result"
    }
   ],
   "source": [
    "final_result = pd.DataFrame()\n",
    "# model\n",
    "for i in range(MAX_EVAL):\n",
    "    # choose values for parameters randomly\n",
    "    hp = {k: v[random.randint(0,len(v) - 1)] for k, v in param.items()}\n",
    "    print(hp)\n",
    "    \n",
    "    # model\n",
    "    model_xgb = xgb.XGBRegressor(#objecitve = 'reg:squarederror',\n",
    "                                 n_estimators = hp['n_estimators'],\n",
    "                                 eta = hp['eta'], \n",
    "                                 max_depth = hp['max_depth'],\n",
    "                                 subsample = hp['subsample'],\n",
    "                                 #closample_bytree = hp['colsample_bytree'],\n",
    "                                 min_child_weight = hp['min_child_weight'])\n",
    "\n",
    "    # performance\n",
    "    xgb_result = cross_validation(x_training, 2, 'XGBoost Regressor', model_xgb)\n",
    "    final_result = pd.concat([final_result, xgb_result])\n",
    "final_result"
   ]
  },
  {
   "cell_type": "code",
   "execution_count": null,
   "id": "367a3ba3",
   "metadata": {},
   "outputs": [],
   "source": []
  }
 ],
 "metadata": {
  "kernelspec": {
   "display_name": "Python 3 (ipykernel)",
   "language": "python",
   "name": "python3"
  },
  "language_info": {
   "codemirror_mode": {
    "name": "ipython",
    "version": 3
   },
   "file_extension": ".py",
   "mimetype": "text/x-python",
   "name": "python",
   "nbconvert_exporter": "python",
   "pygments_lexer": "ipython3",
   "version": "3.8.10"
  }
 },
 "nbformat": 4,
 "nbformat_minor": 5
}
