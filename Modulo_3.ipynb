{
 "cells": [
  {
   "cell_type": "markdown",
   "id": "8f9e8021",
   "metadata": {},
   "source": [
    "## Aula 1: Entendendo o problema de negócio."
   ]
  },
  {
   "cell_type": "markdown",
   "id": "d21f17f5",
   "metadata": {},
   "source": [
    "### 4 tópicos para entender os problemas de Data Science. \n",
    "Antes de iniciar o projeto fale com as pessoas de empresa para responder as questões abaixo. Isso pode mudar o rumo do projeto e você não perde tempo fazendo algo que depois de meses ou semanas, podem te falar: \"__Não era bem isso que eu esperava__\""
   ]
  },
  {
   "cell_type": "markdown",
   "id": "bf7194f6",
   "metadata": {},
   "source": [
    "#### __Entender__:  A motivação    \n",
    "Qual o contexto?   \n",
    "__R:__ O CFO requisitou essa solução durante uma reunião de sulstados mensais."
   ]
  },
  {
   "cell_type": "markdown",
   "id": "a3d4bedb",
   "metadata": {},
   "source": [
    "####  __Entender__: A causa Rais do Problema\n",
    "Proque fazar uma previsão de vendas?   \n",
    "__R:__ Investimento em Reformas dad Lojas."
   ]
  },
  {
   "cell_type": "markdown",
   "id": "dbf13367",
   "metadata": {},
   "source": [
    "#### __Entender__: Quem é o dono do problema\n",
    "Quem é o Stakeholder?  \n",
    "__R:__ O CFO"
   ]
  },
  {
   "cell_type": "markdown",
   "id": "8166a2d6",
   "metadata": {},
   "source": [
    "#### __Entender__: O formata da Solução\n",
    "__-Granularidade__ Vendas diárias em R$, nas próximas 6 semanas.   \n",
    "__-Tipo do problema__ Problema de predição.       \n",
    "__-Protenciais métodos__ Time Seiries, Regressão, Neural NetWork.   \n",
    "__-Formate da entrega__ Pridições Acessadas via Celular.   "
   ]
  },
  {
   "cell_type": "code",
   "execution_count": null,
   "id": "f232a036",
   "metadata": {},
   "outputs": [],
   "source": []
  }
 ],
 "metadata": {
  "kernelspec": {
   "display_name": "Python 3 (ipykernel)",
   "language": "python",
   "name": "python3"
  },
  "language_info": {
   "codemirror_mode": {
    "name": "ipython",
    "version": 3
   },
   "file_extension": ".py",
   "mimetype": "text/x-python",
   "name": "python",
   "nbconvert_exporter": "python",
   "pygments_lexer": "ipython3",
   "version": "3.10.2"
  }
 },
 "nbformat": 4,
 "nbformat_minor": 5
}
