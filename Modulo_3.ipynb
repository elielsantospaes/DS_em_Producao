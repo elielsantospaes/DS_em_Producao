{
 "cells": [
  {
   "cell_type": "markdown",
   "id": "8f9e8021",
   "metadata": {},
   "source": [
    "## Entendendo o problema de negócio."
   ]
  },
  {
   "cell_type": "markdown",
   "id": "d21f17f5",
   "metadata": {},
   "source": [
    "### 4 tópicos para entender os problemas de Data Science. \n",
    "Antes de iniciar o projeto fale com as pessoas de empresa para responder as questões abaixo. Isso pode mudar o rumo do projeto e você não perde tempo fazendo algo que depois de meses ou semanas, podem te falar: \"__Não era bem isso que eu esperava__\""
   ]
  },
  {
   "cell_type": "markdown",
   "id": "bf7194f6",
   "metadata": {},
   "source": [
    "#### __Entender__:  A motivação    \n",
    "Qual o contexto?   \n",
    "__R:__ O CFO requisitou essa solução durante uma reunião de sulstados mensais."
   ]
  },
  {
   "cell_type": "markdown",
   "id": "a3d4bedb",
   "metadata": {},
   "source": [
    "####  __Entender__: A causa Rais do Problema\n",
    "Proque fazar uma previsão de vendas?   \n",
    "__R:__ Investimento em Reformas dad Lojas."
   ]
  },
  {
   "cell_type": "markdown",
   "id": "dbf13367",
   "metadata": {},
   "source": [
    "#### __Entender__: Quem é o dono do problema\n",
    "Quem é o Stakeholder?  \n",
    "__R:__ O CFO"
   ]
  },
  {
   "cell_type": "markdown",
   "id": "8166a2d6",
   "metadata": {},
   "source": [
    "#### __Entender__: O formata da Solução\n",
    "__-Granularidade__ Vendas diárias em R$, nas próximas 6 semanas.   \n",
    "__-Tipo do problema__ Problema de predição.       \n",
    "__-Protenciais métodos__ Time Seiries, Regressão, Neural NetWork.   \n",
    "__-Formate da entrega__ Pridições Acessadas via Celular.   "
   ]
  },
  {
   "cell_type": "markdown",
   "id": "b6fd6cf0",
   "metadata": {},
   "source": [
    "## Método CRISP-DS (CRoss-Industry Process - DataScience)\n",
    "Método Cíclido de Desenvolvimento"
   ]
  },
  {
   "cell_type": "markdown",
   "id": "54184ead",
   "metadata": {},
   "source": [
    "#### 1 Clicplo CRISP Completo.   \n",
    "__1 -__ Versão End-to-End da Solução.   \n",
    "__2 -__ Velocidade na Ebtrega de Valor.   \n",
    "__3 -__ Mapeamento de todos os possíveis problemas"
   ]
  },
  {
   "cell_type": "code",
   "execution_count": 1,
   "id": "8b16cc2d",
   "metadata": {},
   "outputs": [
    {
     "name": "stdout",
     "output_type": "stream",
     "text": [
      "usage: jt [-h] [-l] [-t THEME] [-f MONOFONT] [-fs MONOSIZE] [-nf NBFONT]\r\n",
      "          [-nfs NBFONTSIZE] [-tf TCFONT] [-tfs TCFONTSIZE] [-dfs DFFONTSIZE]\r\n",
      "          [-ofs OUTFONTSIZE] [-mathfs MATHFONTSIZE] [-m MARGINS]\r\n",
      "          [-cursw CURSORWIDTH] [-cursc CURSORCOLOR] [-cellw CELLWIDTH]\r\n",
      "          [-lineh LINEHEIGHT] [-altp] [-altmd] [-altout] [-P] [-T] [-N] [-kl]\r\n",
      "          [-vim] [-r] [-dfonts]\r\n",
      "\r\n",
      "optional arguments:\r\n",
      "  -h, --help            show this help message and exit\r\n",
      "  -l, --list            list available themes\r\n",
      "  -t THEME, --theme THEME\r\n",
      "                        theme name to install\r\n",
      "  -f MONOFONT, --monofont MONOFONT\r\n",
      "                        monospace code font\r\n",
      "  -fs MONOSIZE, --monosize MONOSIZE\r\n",
      "                        code font-size\r\n",
      "  -nf NBFONT, --nbfont NBFONT\r\n",
      "                        notebook font\r\n",
      "  -nfs NBFONTSIZE, --nbfontsize NBFONTSIZE\r\n",
      "                        notebook fontsize\r\n",
      "  -tf TCFONT, --tcfont TCFONT\r\n",
      "                        txtcell font\r\n",
      "  -tfs TCFONTSIZE, --tcfontsize TCFONTSIZE\r\n",
      "                        txtcell fontsize\r\n",
      "  -dfs DFFONTSIZE, --dffontsize DFFONTSIZE\r\n",
      "                        pandas dataframe fontsize\r\n",
      "  -ofs OUTFONTSIZE, --outfontsize OUTFONTSIZE\r\n",
      "                        output area fontsize\r\n",
      "  -mathfs MATHFONTSIZE, --mathfontsize MATHFONTSIZE\r\n",
      "                        mathjax fontsize (in %)\r\n",
      "  -m MARGINS, --margins MARGINS\r\n",
      "                        fix margins of main intro page\r\n",
      "  -cursw CURSORWIDTH, --cursorwidth CURSORWIDTH\r\n",
      "                        set cursorwidth (px)\r\n",
      "  -cursc CURSORCOLOR, --cursorcolor CURSORCOLOR\r\n",
      "                        cursor color (r, b, g, p)\r\n",
      "  -cellw CELLWIDTH, --cellwidth CELLWIDTH\r\n",
      "                        set cell width (px or %)\r\n",
      "  -lineh LINEHEIGHT, --lineheight LINEHEIGHT\r\n",
      "                        code/text line-height (%)\r\n",
      "  -altp, --altprompt    alt input prompt style\r\n",
      "  -altmd, --altmarkdown\r\n",
      "                        alt markdown cell style\r\n",
      "  -altout, --altoutput  set output bg color to notebook bg\r\n",
      "  -P, --hideprompt      hide cell input prompt\r\n",
      "  -T, --toolbar         make toolbar visible\r\n",
      "  -N, --nbname          nb name/logo visible\r\n",
      "  -kl, --kernellogo     kernel logo visible\r\n",
      "  -vim, --vimext        toggle styles for vim\r\n",
      "  -r, --reset           reset to default theme\r\n",
      "  -dfonts, --defaultfonts\r\n",
      "                        force fonts to browser default\r\n"
     ]
    }
   ],
   "source": [
    "!jt -h"
   ]
  },
  {
   "cell_type": "code",
   "execution_count": 2,
   "id": "187f33fb",
   "metadata": {},
   "outputs": [
    {
     "name": "stdout",
     "output_type": "stream",
     "text": [
      "usage: jt [-h] [-l] [-t THEME] [-f MONOFONT] [-fs MONOSIZE] [-nf NBFONT]\r\n",
      "          [-nfs NBFONTSIZE] [-tf TCFONT] [-tfs TCFONTSIZE] [-dfs DFFONTSIZE]\r\n",
      "          [-ofs OUTFONTSIZE] [-mathfs MATHFONTSIZE] [-m MARGINS]\r\n",
      "          [-cursw CURSORWIDTH] [-cursc CURSORCOLOR] [-cellw CELLWIDTH]\r\n",
      "          [-lineh LINEHEIGHT] [-altp] [-altmd] [-altout] [-P] [-T] [-N] [-kl]\r\n",
      "          [-vim] [-r] [-dfonts]\r\n",
      "jt: error: unrecognized arguments: nfs 12 cellw 95%\r\n"
     ]
    }
   ],
   "source": [
    "!jt -t grade3 -fs 12 nfs 12 -ofs 11 -dfs 11 cellw 95% -N -T -vim"
   ]
  },
  {
   "cell_type": "code",
   "execution_count": null,
   "id": "36eb9fdb",
   "metadata": {},
   "outputs": [],
   "source": []
  }
 ],
 "metadata": {
  "kernelspec": {
   "display_name": "Python 3 (ipykernel)",
   "language": "python",
   "name": "python3"
  },
  "language_info": {
   "codemirror_mode": {
    "name": "ipython",
    "version": 3
   },
   "file_extension": ".py",
   "mimetype": "text/x-python",
   "name": "python",
   "nbconvert_exporter": "python",
   "pygments_lexer": "ipython3",
   "version": "3.8.10"
  }
 },
 "nbformat": 4,
 "nbformat_minor": 5
}
